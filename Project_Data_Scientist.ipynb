{
 "cells": [
  {
   "cell_type": "code",
   "execution_count": 27,
   "id": "average-muscle",
   "metadata": {},
   "outputs": [],
   "source": [
    "import numpy as np"
   ]
  },
  {
   "cell_type": "code",
   "execution_count": 28,
   "id": "decimal-program",
   "metadata": {},
   "outputs": [],
   "source": [
    "import pandas as pd"
   ]
  },
  {
   "cell_type": "code",
   "execution_count": 29,
   "id": "going-recognition",
   "metadata": {},
   "outputs": [],
   "source": [
    "import re"
   ]
  },
  {
   "cell_type": "code",
   "execution_count": 30,
   "id": "irish-concord",
   "metadata": {},
   "outputs": [],
   "source": [
    "alldata= pd.read_csv('allstates.csv', sep=';')"
   ]
  },
  {
   "cell_type": "code",
   "execution_count": 31,
   "id": "adapted-religious",
   "metadata": {},
   "outputs": [
    {
     "data": {
      "text/html": [
       "<div>\n",
       "<style scoped>\n",
       "    .dataframe tbody tr th:only-of-type {\n",
       "        vertical-align: middle;\n",
       "    }\n",
       "\n",
       "    .dataframe tbody tr th {\n",
       "        vertical-align: top;\n",
       "    }\n",
       "\n",
       "    .dataframe thead th {\n",
       "        text-align: right;\n",
       "    }\n",
       "</style>\n",
       "<table border=\"1\" class=\"dataframe\">\n",
       "  <thead>\n",
       "    <tr style=\"text-align: right;\">\n",
       "      <th></th>\n",
       "      <th>position</th>\n",
       "      <th>description</th>\n",
       "      <th>City</th>\n",
       "      <th>State</th>\n",
       "      <th>Unnamed: 4</th>\n",
       "      <th>Unnamed: 5</th>\n",
       "      <th>Unnamed: 6</th>\n",
       "      <th>SQL</th>\n",
       "      <th>Java</th>\n",
       "      <th>Excel</th>\n",
       "      <th>...</th>\n",
       "      <th>Phd</th>\n",
       "      <th>Bachelor</th>\n",
       "      <th>Montecarlo</th>\n",
       "      <th>Matlab</th>\n",
       "      <th>Pandas</th>\n",
       "      <th>Stata</th>\n",
       "      <th>Lookup</th>\n",
       "      <th>PowerBi</th>\n",
       "      <th>Qlik</th>\n",
       "      <th>Looker</th>\n",
       "    </tr>\n",
       "  </thead>\n",
       "  <tbody>\n",
       "    <tr>\n",
       "      <th>0</th>\n",
       "      <td>2018 - Health Research Analyst 2 - New</td>\n",
       "      <td>Are you interested in the opportunity to work ...</td>\n",
       "      <td>Atlanta</td>\n",
       "      <td>GA</td>\n",
       "      <td>NaN</td>\n",
       "      <td>NaN</td>\n",
       "      <td>NaN</td>\n",
       "      <td>0</td>\n",
       "      <td>0</td>\n",
       "      <td>0</td>\n",
       "      <td>...</td>\n",
       "      <td>0</td>\n",
       "      <td>0</td>\n",
       "      <td>0</td>\n",
       "      <td>0</td>\n",
       "      <td>0</td>\n",
       "      <td>0</td>\n",
       "      <td>0</td>\n",
       "      <td>0</td>\n",
       "      <td>0</td>\n",
       "      <td>0</td>\n",
       "    </tr>\n",
       "    <tr>\n",
       "      <th>1</th>\n",
       "      <td>A Vigorously-Charged Scientific Programmer</td>\n",
       "      <td>Job Description\\n\\nHexagon Lavish® is a scient...</td>\n",
       "      <td>Atlanta</td>\n",
       "      <td>GA</td>\n",
       "      <td>NaN</td>\n",
       "      <td>NaN</td>\n",
       "      <td>NaN</td>\n",
       "      <td>0</td>\n",
       "      <td>0</td>\n",
       "      <td>0</td>\n",
       "      <td>...</td>\n",
       "      <td>0</td>\n",
       "      <td>1</td>\n",
       "      <td>0</td>\n",
       "      <td>1</td>\n",
       "      <td>0</td>\n",
       "      <td>0</td>\n",
       "      <td>0</td>\n",
       "      <td>0</td>\n",
       "      <td>0</td>\n",
       "      <td>0</td>\n",
       "    </tr>\n",
       "    <tr>\n",
       "      <th>2</th>\n",
       "      <td>Account Executive - Atlanta</td>\n",
       "      <td>Dataiku is looking for an experienced Account ...</td>\n",
       "      <td>Atlanta</td>\n",
       "      <td>GA</td>\n",
       "      <td>NaN</td>\n",
       "      <td>NaN</td>\n",
       "      <td>NaN</td>\n",
       "      <td>0</td>\n",
       "      <td>0</td>\n",
       "      <td>0</td>\n",
       "      <td>...</td>\n",
       "      <td>1</td>\n",
       "      <td>0</td>\n",
       "      <td>0</td>\n",
       "      <td>0</td>\n",
       "      <td>0</td>\n",
       "      <td>0</td>\n",
       "      <td>0</td>\n",
       "      <td>0</td>\n",
       "      <td>0</td>\n",
       "      <td>0</td>\n",
       "    </tr>\n",
       "    <tr>\n",
       "      <th>3</th>\n",
       "      <td>Account Executive - Atlanta</td>\n",
       "      <td>Position: Account Executive - Georgia\\nLocatio...</td>\n",
       "      <td>Atlanta</td>\n",
       "      <td>GA</td>\n",
       "      <td>NaN</td>\n",
       "      <td>NaN</td>\n",
       "      <td>NaN</td>\n",
       "      <td>0</td>\n",
       "      <td>0</td>\n",
       "      <td>1</td>\n",
       "      <td>...</td>\n",
       "      <td>0</td>\n",
       "      <td>1</td>\n",
       "      <td>0</td>\n",
       "      <td>0</td>\n",
       "      <td>0</td>\n",
       "      <td>0</td>\n",
       "      <td>0</td>\n",
       "      <td>0</td>\n",
       "      <td>0</td>\n",
       "      <td>0</td>\n",
       "    </tr>\n",
       "    <tr>\n",
       "      <th>4</th>\n",
       "      <td>Account Executive - Healthcare Sales</td>\n",
       "      <td>Account Executive - Healthcare\\nAtlanta Based ...</td>\n",
       "      <td>Atlanta</td>\n",
       "      <td>GA</td>\n",
       "      <td>NaN</td>\n",
       "      <td>NaN</td>\n",
       "      <td>NaN</td>\n",
       "      <td>0</td>\n",
       "      <td>0</td>\n",
       "      <td>0</td>\n",
       "      <td>...</td>\n",
       "      <td>0</td>\n",
       "      <td>0</td>\n",
       "      <td>0</td>\n",
       "      <td>0</td>\n",
       "      <td>0</td>\n",
       "      <td>0</td>\n",
       "      <td>0</td>\n",
       "      <td>0</td>\n",
       "      <td>0</td>\n",
       "      <td>0</td>\n",
       "    </tr>\n",
       "  </tbody>\n",
       "</table>\n",
       "<p>5 rows × 30 columns</p>\n",
       "</div>"
      ],
      "text/plain": [
       "                                     position  \\\n",
       "0      2018 - Health Research Analyst 2 - New   \n",
       "1  A Vigorously-Charged Scientific Programmer   \n",
       "2                 Account Executive - Atlanta   \n",
       "3                 Account Executive - Atlanta   \n",
       "4        Account Executive - Healthcare Sales   \n",
       "\n",
       "                                         description     City State  \\\n",
       "0  Are you interested in the opportunity to work ...  Atlanta    GA   \n",
       "1  Job Description\\n\\nHexagon Lavish® is a scient...  Atlanta    GA   \n",
       "2  Dataiku is looking for an experienced Account ...  Atlanta    GA   \n",
       "3  Position: Account Executive - Georgia\\nLocatio...  Atlanta    GA   \n",
       "4  Account Executive - Healthcare\\nAtlanta Based ...  Atlanta    GA   \n",
       "\n",
       "   Unnamed: 4  Unnamed: 5  Unnamed: 6  SQL  Java  Excel  ...  Phd  Bachelor  \\\n",
       "0         NaN         NaN         NaN    0     0      0  ...    0         0   \n",
       "1         NaN         NaN         NaN    0     0      0  ...    0         1   \n",
       "2         NaN         NaN         NaN    0     0      0  ...    1         0   \n",
       "3         NaN         NaN         NaN    0     0      1  ...    0         1   \n",
       "4         NaN         NaN         NaN    0     0      0  ...    0         0   \n",
       "\n",
       "   Montecarlo  Matlab  Pandas  Stata  Lookup  PowerBi  Qlik  Looker  \n",
       "0           0       0       0      0       0        0     0       0  \n",
       "1           0       1       0      0       0        0     0       0  \n",
       "2           0       0       0      0       0        0     0       0  \n",
       "3           0       0       0      0       0        0     0       0  \n",
       "4           0       0       0      0       0        0     0       0  \n",
       "\n",
       "[5 rows x 30 columns]"
      ]
     },
     "execution_count": 31,
     "metadata": {},
     "output_type": "execute_result"
    }
   ],
   "source": [
    "alldata.head()"
   ]
  },
  {
   "cell_type": "code",
   "execution_count": 32,
   "id": "studied-ebony",
   "metadata": {},
   "outputs": [],
   "source": [
    "alldata=alldata[['position', 'description', 'City', 'State', 'SQL','Java', 'Excel','PHD','Tableau','Azure','C++','UX','Ph.D.','Bachelor','Montecarlo','Matlab', 'Pandas','Stata','Lookup','PowerBi','Qlik','Looker']]"
   ]
  },
  {
   "cell_type": "code",
   "execution_count": 33,
   "id": "unable-olympus",
   "metadata": {},
   "outputs": [
    {
     "data": {
      "text/plain": [
       "['position',\n",
       " 'description',\n",
       " 'city',\n",
       " 'state',\n",
       " 'sql',\n",
       " 'java',\n",
       " 'excel',\n",
       " 'phd',\n",
       " 'tableau',\n",
       " 'azure',\n",
       " 'c++',\n",
       " 'ux',\n",
       " 'ph.d.',\n",
       " 'bachelor',\n",
       " 'montecarlo',\n",
       " 'matlab',\n",
       " 'pandas',\n",
       " 'stata',\n",
       " 'lookup',\n",
       " 'powerbi',\n",
       " 'qlik',\n",
       " 'looker']"
      ]
     },
     "execution_count": 33,
     "metadata": {},
     "output_type": "execute_result"
    }
   ],
   "source": [
    "#we want to make all the columns into lower case \n",
    "cols = []\n",
    "for i in range(len(alldata.columns)):\n",
    "    cols.append(alldata.columns[i].lower())\n",
    "cols"
   ]
  },
  {
   "cell_type": "code",
   "execution_count": 34,
   "id": "israeli-language",
   "metadata": {},
   "outputs": [],
   "source": [
    "alldata.columns = cols"
   ]
  },
  {
   "cell_type": "code",
   "execution_count": 35,
   "id": "postal-attention",
   "metadata": {},
   "outputs": [
    {
     "data": {
      "text/plain": [
       "Index(['position', 'description', 'city', 'state', 'sql', 'java', 'excel',\n",
       "       'phd', 'tableau', 'azure', 'c++', 'ux', 'ph.d.', 'bachelor',\n",
       "       'montecarlo', 'matlab', 'pandas', 'stata', 'lookup', 'powerbi', 'qlik',\n",
       "       'looker'],\n",
       "      dtype='object')"
      ]
     },
     "execution_count": 35,
     "metadata": {},
     "output_type": "execute_result"
    }
   ],
   "source": [
    "alldata.columns"
   ]
  },
  {
   "cell_type": "markdown",
   "id": "wireless-civilian",
   "metadata": {},
   "source": [
    "### Focus on California and New York"
   ]
  },
  {
   "cell_type": "code",
   "execution_count": 36,
   "id": "mature-reverse",
   "metadata": {},
   "outputs": [],
   "source": [
    "cany= alldata.query('state==\"CA\" or state==\"NY\"')"
   ]
  },
  {
   "cell_type": "code",
   "execution_count": 37,
   "id": "traditional-canal",
   "metadata": {},
   "outputs": [
    {
     "data": {
      "text/plain": [
       "array(['CA', 'NY'], dtype=object)"
      ]
     },
     "execution_count": 37,
     "metadata": {},
     "output_type": "execute_result"
    }
   ],
   "source": [
    "cany['state'].unique()"
   ]
  },
  {
   "cell_type": "code",
   "execution_count": 38,
   "id": "bizarre-potter",
   "metadata": {},
   "outputs": [
    {
     "data": {
      "text/plain": [
       "(3084, 22)"
      ]
     },
     "execution_count": 38,
     "metadata": {},
     "output_type": "execute_result"
    }
   ],
   "source": [
    "cany.shape"
   ]
  },
  {
   "cell_type": "code",
   "execution_count": 39,
   "id": "burning-occupation",
   "metadata": {},
   "outputs": [],
   "source": [
    "cleancany=cany.drop_duplicates()"
   ]
  },
  {
   "cell_type": "code",
   "execution_count": 40,
   "id": "precious-investment",
   "metadata": {},
   "outputs": [
    {
     "data": {
      "text/plain": [
       "(3062, 22)"
      ]
     },
     "execution_count": 40,
     "metadata": {},
     "output_type": "execute_result"
    }
   ],
   "source": [
    "cleancany.shape"
   ]
  },
  {
   "cell_type": "markdown",
   "id": "molecular-camcorder",
   "metadata": {},
   "source": [
    "### Most wanted positions"
   ]
  },
  {
   "cell_type": "code",
   "execution_count": 41,
   "id": "cognitive-cricket",
   "metadata": {},
   "outputs": [
    {
     "data": {
      "text/plain": [
       "Data Scientist                                                         223\n",
       "Senior Data Scientist                                                   58\n",
       "Research Analyst                                                        38\n",
       "Data Engineer                                                           38\n",
       "Machine Learning Engineer                                               34\n",
       "                                                                      ... \n",
       "Data Scientist- Enterprise Product Analytics                             1\n",
       "Medical Communications Specialist; Bureau of Public Health Training      1\n",
       "HR Analyst                                                               1\n",
       "Staff Discharge Chamber Scientist                                        1\n",
       "VP Data & Insights                                                       1\n",
       "Name: position, Length: 2275, dtype: int64"
      ]
     },
     "execution_count": 41,
     "metadata": {},
     "output_type": "execute_result"
    }
   ],
   "source": [
    "cleancany['position'].value_counts()"
   ]
  },
  {
   "cell_type": "code",
   "execution_count": 42,
   "id": "twelve-offer",
   "metadata": {},
   "outputs": [
    {
     "data": {
      "text/plain": [
       "Data Scientist                                                         0.072828\n",
       "Senior Data Scientist                                                  0.018942\n",
       "Research Analyst                                                       0.012410\n",
       "Data Engineer                                                          0.012410\n",
       "Machine Learning Engineer                                              0.011104\n",
       "                                                                         ...   \n",
       "Data Scientist- Enterprise Product Analytics                           0.000327\n",
       "Medical Communications Specialist; Bureau of Public Health Training    0.000327\n",
       "HR Analyst                                                             0.000327\n",
       "Staff Discharge Chamber Scientist                                      0.000327\n",
       "VP Data & Insights                                                     0.000327\n",
       "Name: position, Length: 2275, dtype: float64"
      ]
     },
     "execution_count": 42,
     "metadata": {},
     "output_type": "execute_result"
    }
   ],
   "source": [
    "cleancany['position'].value_counts('scientist')"
   ]
  },
  {
   "cell_type": "code",
   "execution_count": 43,
   "id": "documented-opportunity",
   "metadata": {},
   "outputs": [],
   "source": [
    "text=cleancany['position']"
   ]
  },
  {
   "cell_type": "code",
   "execution_count": 44,
   "id": "ecological-complex",
   "metadata": {},
   "outputs": [
    {
     "data": {
      "text/plain": [
       "array(['Institutional Review Board Analyst I - Office of Research',\n",
       "       'Analyst - Optimization', 'Postdoctoral Research Associate', ...,\n",
       "       'Intern Scientist', 'Senior Data & Applied Scientist',\n",
       "       'Principal Data Scientist; Deep Learning'], dtype=object)"
      ]
     },
     "execution_count": 44,
     "metadata": {},
     "output_type": "execute_result"
    }
   ],
   "source": [
    "job_titel = cleancany['position'].unique()\n",
    "job_titel"
   ]
  },
  {
   "cell_type": "code",
   "execution_count": 45,
   "id": "thermal-caribbean",
   "metadata": {},
   "outputs": [
    {
     "data": {
      "text/plain": [
       "2275"
      ]
     },
     "execution_count": 45,
     "metadata": {},
     "output_type": "execute_result"
    }
   ],
   "source": [
    "len(job_titel)"
   ]
  },
  {
   "cell_type": "markdown",
   "id": "identified-terrorist",
   "metadata": {},
   "source": [
    "### Filter Scientist and Analyst Positions"
   ]
  },
  {
   "cell_type": "code",
   "execution_count": 46,
   "id": "buried-constraint",
   "metadata": {},
   "outputs": [],
   "source": [
    "scientist= cleancany[cleancany['position'].str.contains(\"Scientist\")]"
   ]
  },
  {
   "cell_type": "code",
   "execution_count": 47,
   "id": "indian-edition",
   "metadata": {},
   "outputs": [
    {
     "data": {
      "text/html": [
       "<div>\n",
       "<style scoped>\n",
       "    .dataframe tbody tr th:only-of-type {\n",
       "        vertical-align: middle;\n",
       "    }\n",
       "\n",
       "    .dataframe tbody tr th {\n",
       "        vertical-align: top;\n",
       "    }\n",
       "\n",
       "    .dataframe thead th {\n",
       "        text-align: right;\n",
       "    }\n",
       "</style>\n",
       "<table border=\"1\" class=\"dataframe\">\n",
       "  <thead>\n",
       "    <tr style=\"text-align: right;\">\n",
       "      <th></th>\n",
       "      <th>position</th>\n",
       "      <th>description</th>\n",
       "      <th>city</th>\n",
       "      <th>state</th>\n",
       "      <th>sql</th>\n",
       "      <th>java</th>\n",
       "      <th>excel</th>\n",
       "      <th>phd</th>\n",
       "      <th>tableau</th>\n",
       "      <th>azure</th>\n",
       "      <th>...</th>\n",
       "      <th>ph.d.</th>\n",
       "      <th>bachelor</th>\n",
       "      <th>montecarlo</th>\n",
       "      <th>matlab</th>\n",
       "      <th>pandas</th>\n",
       "      <th>stata</th>\n",
       "      <th>lookup</th>\n",
       "      <th>powerbi</th>\n",
       "      <th>qlik</th>\n",
       "      <th>looker</th>\n",
       "    </tr>\n",
       "  </thead>\n",
       "  <tbody>\n",
       "    <tr>\n",
       "      <th>2182</th>\n",
       "      <td>Additive Materials and Process Scientist</td>\n",
       "      <td>Position Specification: Additive Material and ...</td>\n",
       "      <td>Los Angeles</td>\n",
       "      <td>CA</td>\n",
       "      <td>0</td>\n",
       "      <td>0</td>\n",
       "      <td>0</td>\n",
       "      <td>0</td>\n",
       "      <td>0</td>\n",
       "      <td>0</td>\n",
       "      <td>...</td>\n",
       "      <td>1</td>\n",
       "      <td>0</td>\n",
       "      <td>0</td>\n",
       "      <td>0</td>\n",
       "      <td>0</td>\n",
       "      <td>0</td>\n",
       "      <td>0</td>\n",
       "      <td>0</td>\n",
       "      <td>0</td>\n",
       "      <td>0</td>\n",
       "    </tr>\n",
       "    <tr>\n",
       "      <th>2186</th>\n",
       "      <td>Data Scientist</td>\n",
       "      <td>Data Scientist contract in Los Angeles; CA (Bu...</td>\n",
       "      <td>Los Angeles</td>\n",
       "      <td>CA</td>\n",
       "      <td>0</td>\n",
       "      <td>0</td>\n",
       "      <td>0</td>\n",
       "      <td>0</td>\n",
       "      <td>0</td>\n",
       "      <td>0</td>\n",
       "      <td>...</td>\n",
       "      <td>0</td>\n",
       "      <td>0</td>\n",
       "      <td>0</td>\n",
       "      <td>0</td>\n",
       "      <td>0</td>\n",
       "      <td>0</td>\n",
       "      <td>0</td>\n",
       "      <td>0</td>\n",
       "      <td>0</td>\n",
       "      <td>0</td>\n",
       "    </tr>\n",
       "    <tr>\n",
       "      <th>2187</th>\n",
       "      <td>Postdoctoral Scientist (Immunology)</td>\n",
       "      <td>Dr. Helen Goodridge is looking for a postdocto...</td>\n",
       "      <td>Los Angeles</td>\n",
       "      <td>CA</td>\n",
       "      <td>0</td>\n",
       "      <td>0</td>\n",
       "      <td>1</td>\n",
       "      <td>1</td>\n",
       "      <td>0</td>\n",
       "      <td>0</td>\n",
       "      <td>...</td>\n",
       "      <td>0</td>\n",
       "      <td>0</td>\n",
       "      <td>0</td>\n",
       "      <td>0</td>\n",
       "      <td>0</td>\n",
       "      <td>0</td>\n",
       "      <td>0</td>\n",
       "      <td>0</td>\n",
       "      <td>0</td>\n",
       "      <td>0</td>\n",
       "    </tr>\n",
       "    <tr>\n",
       "      <th>2188</th>\n",
       "      <td>Principal Scientist 1</td>\n",
       "      <td>Grifols is a global healthcare company whose m...</td>\n",
       "      <td>Los Angeles</td>\n",
       "      <td>CA</td>\n",
       "      <td>0</td>\n",
       "      <td>0</td>\n",
       "      <td>1</td>\n",
       "      <td>0</td>\n",
       "      <td>0</td>\n",
       "      <td>0</td>\n",
       "      <td>...</td>\n",
       "      <td>1</td>\n",
       "      <td>0</td>\n",
       "      <td>0</td>\n",
       "      <td>0</td>\n",
       "      <td>0</td>\n",
       "      <td>0</td>\n",
       "      <td>0</td>\n",
       "      <td>0</td>\n",
       "      <td>0</td>\n",
       "      <td>0</td>\n",
       "    </tr>\n",
       "    <tr>\n",
       "      <th>2189</th>\n",
       "      <td>Project Scientist</td>\n",
       "      <td>The Smidt Heart Institute at Cedars-Sinai; Los...</td>\n",
       "      <td>Los Angeles</td>\n",
       "      <td>CA</td>\n",
       "      <td>0</td>\n",
       "      <td>0</td>\n",
       "      <td>0</td>\n",
       "      <td>1</td>\n",
       "      <td>0</td>\n",
       "      <td>0</td>\n",
       "      <td>...</td>\n",
       "      <td>0</td>\n",
       "      <td>0</td>\n",
       "      <td>0</td>\n",
       "      <td>0</td>\n",
       "      <td>0</td>\n",
       "      <td>0</td>\n",
       "      <td>0</td>\n",
       "      <td>0</td>\n",
       "      <td>0</td>\n",
       "      <td>0</td>\n",
       "    </tr>\n",
       "  </tbody>\n",
       "</table>\n",
       "<p>5 rows × 22 columns</p>\n",
       "</div>"
      ],
      "text/plain": [
       "                                      position  \\\n",
       "2182  Additive Materials and Process Scientist   \n",
       "2186                            Data Scientist   \n",
       "2187       Postdoctoral Scientist (Immunology)   \n",
       "2188                     Principal Scientist 1   \n",
       "2189                         Project Scientist   \n",
       "\n",
       "                                            description         city state  \\\n",
       "2182  Position Specification: Additive Material and ...  Los Angeles    CA   \n",
       "2186  Data Scientist contract in Los Angeles; CA (Bu...  Los Angeles    CA   \n",
       "2187  Dr. Helen Goodridge is looking for a postdocto...  Los Angeles    CA   \n",
       "2188  Grifols is a global healthcare company whose m...  Los Angeles    CA   \n",
       "2189  The Smidt Heart Institute at Cedars-Sinai; Los...  Los Angeles    CA   \n",
       "\n",
       "      sql  java  excel  phd  tableau  azure  ...  ph.d.  bachelor  montecarlo  \\\n",
       "2182    0     0      0    0        0      0  ...      1         0           0   \n",
       "2186    0     0      0    0        0      0  ...      0         0           0   \n",
       "2187    0     0      1    1        0      0  ...      0         0           0   \n",
       "2188    0     0      1    0        0      0  ...      1         0           0   \n",
       "2189    0     0      0    1        0      0  ...      0         0           0   \n",
       "\n",
       "      matlab  pandas  stata  lookup  powerbi  qlik  looker  \n",
       "2182       0       0      0       0        0     0       0  \n",
       "2186       0       0      0       0        0     0       0  \n",
       "2187       0       0      0       0        0     0       0  \n",
       "2188       0       0      0       0        0     0       0  \n",
       "2189       0       0      0       0        0     0       0  \n",
       "\n",
       "[5 rows x 22 columns]"
      ]
     },
     "execution_count": 47,
     "metadata": {},
     "output_type": "execute_result"
    }
   ],
   "source": [
    "scientist.head()"
   ]
  },
  {
   "cell_type": "code",
   "execution_count": 48,
   "id": "aerial-investor",
   "metadata": {},
   "outputs": [],
   "source": [
    "analyst= cleancany[cleancany['position'].str.contains(\"Analyst\")]"
   ]
  },
  {
   "cell_type": "code",
   "execution_count": 49,
   "id": "blessed-pressing",
   "metadata": {},
   "outputs": [
    {
     "data": {
      "text/plain": [
       "(406, 22)"
      ]
     },
     "execution_count": 49,
     "metadata": {},
     "output_type": "execute_result"
    }
   ],
   "source": [
    "analyst.shape"
   ]
  },
  {
   "cell_type": "code",
   "execution_count": 50,
   "id": "unlimited-protocol",
   "metadata": {},
   "outputs": [],
   "source": [
    "import matplotlib.pyplot as plt\n",
    "import seaborn as sns"
   ]
  },
  {
   "cell_type": "code",
   "execution_count": null,
   "id": "given-constraint",
   "metadata": {},
   "outputs": [],
   "source": []
  },
  {
   "cell_type": "code",
   "execution_count": null,
   "id": "proprietary-desert",
   "metadata": {},
   "outputs": [],
   "source": []
  },
  {
   "cell_type": "code",
   "execution_count": 53,
   "id": "studied-spelling",
   "metadata": {},
   "outputs": [
    {
     "data": {
      "text/plain": [
       "(198, 22)"
      ]
     },
     "execution_count": 53,
     "metadata": {},
     "output_type": "execute_result"
    }
   ],
   "source": [
    "analyst_ca = analyst[analyst['state']=='CA']\n",
    "analyst_ca.shape"
   ]
  },
  {
   "cell_type": "code",
   "execution_count": 54,
   "id": "offshore-regular",
   "metadata": {},
   "outputs": [
    {
     "data": {
      "text/plain": [
       "(208, 22)"
      ]
     },
     "execution_count": 54,
     "metadata": {},
     "output_type": "execute_result"
    }
   ],
   "source": [
    "analyst_ny = analyst[analyst['state']=='NY']\n",
    "analyst_ny.shape"
   ]
  },
  {
   "cell_type": "code",
   "execution_count": 55,
   "id": "graphic-israel",
   "metadata": {},
   "outputs": [
    {
     "data": {
      "text/plain": [
       "(378, 22)"
      ]
     },
     "execution_count": 55,
     "metadata": {},
     "output_type": "execute_result"
    }
   ],
   "source": [
    "scientist_ny = scientist[scientist['state']=='NY']\n",
    "scientist_ny.shape"
   ]
  },
  {
   "cell_type": "code",
   "execution_count": 56,
   "id": "developed-theology",
   "metadata": {},
   "outputs": [
    {
     "data": {
      "text/plain": [
       "(972, 22)"
      ]
     },
     "execution_count": 56,
     "metadata": {},
     "output_type": "execute_result"
    }
   ],
   "source": [
    "scientist_ca = scientist[scientist['state']=='CA']\n",
    "scientist_ca.shape"
   ]
  },
  {
   "cell_type": "code",
   "execution_count": 57,
   "id": "warming-territory",
   "metadata": {},
   "outputs": [],
   "source": [
    "an = {'Analyst_CA':198, 'Scientist_CA':972,'Analyst_NY':208, 'Scientist_NY':378} "
   ]
  },
  {
   "cell_type": "code",
   "execution_count": 58,
   "id": "published-cyprus",
   "metadata": {},
   "outputs": [
    {
     "data": {
      "text/plain": [
       "<BarContainer object of 4 artists>"
      ]
     },
     "execution_count": 58,
     "metadata": {},
     "output_type": "execute_result"
    },
    {
     "data": {
      "image/png": "[encoded data removed]",
      "text/plain": [
       "<Figure size 432x288 with 1 Axes>"
      ]
     },
     "metadata": {
      "needs_background": "light"
     },
     "output_type": "display_data"
    }
   ],
   "source": [
    "keys = an.keys()\n",
    "values = an.values()\n",
    "plt.title('Number of Positions')\n",
    "plt. bar(keys, values)"
   ]
  },
  {
   "cell_type": "code",
   "execution_count": 59,
   "id": "english-retention",
   "metadata": {},
   "outputs": [],
   "source": [
    "skills_ca= {'SQL':sum(scientist_ca['sql']),'Java':sum(scientist_ca['java']),'Excel':sum(scientist_ca['excel']),'Tableau':sum(scientist_ca['tableau'])}\n",
    "skills_ny={'SQL':sum(scientist_ny['sql']),'Java':sum(scientist_ny['java']),'Excel':sum(scientist_ny['excel']),'Tableau':sum(scientist_ny['tableau'])}"
   ]
  },
  {
   "cell_type": "code",
   "execution_count": null,
   "id": "prepared-player",
   "metadata": {},
   "outputs": [],
   "source": []
  },
  {
   "cell_type": "code",
   "execution_count": null,
   "id": "adjustable-charleston",
   "metadata": {},
   "outputs": [],
   "source": [
    "\n"
   ]
  },
  {
   "cell_type": "code",
   "execution_count": null,
   "id": "phantom-underwear",
   "metadata": {},
   "outputs": [],
   "source": []
  },
  {
   "cell_type": "markdown",
   "id": "bound-receptor",
   "metadata": {},
   "source": [
    "### Most important skills required "
   ]
  },
  {
   "cell_type": "code",
   "execution_count": 63,
   "id": "asian-identification",
   "metadata": {},
   "outputs": [],
   "source": [
    "dsda=pd.concat([scientist_ca,scientist_ny,analyst_ca,analyst_ny],axis=0)"
   ]
  },
  {
   "cell_type": "code",
   "execution_count": 64,
   "id": "pursuant-destination",
   "metadata": {},
   "outputs": [],
   "source": [
    "skills= {'SQL':sum(dsda['sql']),'Java':sum(dsda['java']),'Tableau':sum(dsda['tableau']),'Pandas':sum(dsda['pandas']),'Stata':sum(dsda['stata']),'Excel':sum(dsda['excel']),'C++':sum(dsda['c++']),'Matlab':sum(dsda['matlab'])}"
   ]
  },
  {
   "cell_type": "code",
   "execution_count": 65,
   "id": "usual-mercy",
   "metadata": {},
   "outputs": [
    {
     "data": {
      "text/plain": [
       "<BarContainer object of 8 artists>"
      ]
     },
     "execution_count": 65,
     "metadata": {},
     "output_type": "execute_result"
    },
    {
     "data": {
      "image/png": "[encoded data removed]",
      "text/plain": [
       "<Figure size 432x288 with 1 Axes>"
      ]
     },
     "metadata": {
      "needs_background": "light"
     },
     "output_type": "display_data"
    }
   ],
   "source": [
    "keys = skills.keys()\n",
    "values = skills.values()\n",
    "plt.title('Requirement of skills')\n",
    "plt. bar(keys, values)"
   ]
  },
  {
   "cell_type": "markdown",
   "id": "actual-responsibility",
   "metadata": {},
   "source": [
    "### How many Positions require a PHD?"
   ]
  },
  {
   "cell_type": "code",
   "execution_count": 78,
   "id": "nonprofit-typing",
   "metadata": {},
   "outputs": [
    {
     "data": {
      "text/plain": [
       "850"
      ]
     },
     "execution_count": 78,
     "metadata": {},
     "output_type": "execute_result"
    }
   ],
   "source": [
    "sum(dsda['phd'])+sum(dsda['ph.d.'])"
   ]
  },
  {
   "cell_type": "code",
   "execution_count": 79,
   "id": "supreme-journalism",
   "metadata": {},
   "outputs": [
    {
     "data": {
      "text/plain": [
       "(1756, 22)"
      ]
     },
     "execution_count": 79,
     "metadata": {},
     "output_type": "execute_result"
    }
   ],
   "source": [
    "dsda.shape"
   ]
  },
  {
   "cell_type": "code",
   "execution_count": null,
   "id": "charged-fishing",
   "metadata": {},
   "outputs": [],
   "source": []
  },
  {
   "cell_type": "code",
   "execution_count": null,
   "id": "accomplished-seating",
   "metadata": {},
   "outputs": [],
   "source": [
    "sum(analyst_ny['sql'])"
   ]
  },
  {
   "cell_type": "code",
   "execution_count": null,
   "id": "romance-helping",
   "metadata": {},
   "outputs": [],
   "source": [
    "SQL = {'Analyst_CA':87, 'Scientist_CA':307,'Analyst_NY':73, 'Scientist_NY':194} "
   ]
  },
  {
   "cell_type": "code",
   "execution_count": null,
   "id": "danish-sweet",
   "metadata": {},
   "outputs": [],
   "source": [
    "keys = skills_ca.keys()\n",
    "values = skills_ca.values()\n",
    "plt.title('Requirement of SQL skills')\n",
    "plt. bar(keys, values)"
   ]
  },
  {
   "cell_type": "code",
   "execution_count": null,
   "id": "together-estonia",
   "metadata": {},
   "outputs": [],
   "source": []
  },
  {
   "cell_type": "code",
   "execution_count": null,
   "id": "southeast-blink",
   "metadata": {},
   "outputs": [],
   "source": []
  },
  {
   "cell_type": "code",
   "execution_count": null,
   "id": "numeric-communist",
   "metadata": {},
   "outputs": [],
   "source": []
  },
  {
   "cell_type": "code",
   "execution_count": null,
   "id": "baking-familiar",
   "metadata": {},
   "outputs": [],
   "source": []
  },
  {
   "cell_type": "code",
   "execution_count": null,
   "id": "grand-sound",
   "metadata": {},
   "outputs": [],
   "source": []
  }
 ],
 "metadata": {
  "kernelspec": {
   "display_name": "Python 3",
   "language": "python",
   "name": "python3"
  },
  "language_info": {
   "codemirror_mode": {
    "name": "ipython",
    "version": 3
   },
   "file_extension": ".py",
   "mimetype": "text/x-python",
   "name": "python",
   "nbconvert_exporter": "python",
   "pygments_lexer": "ipython3",
   "version": "3.8.8"
  }
 },
 "nbformat": 4,
 "nbformat_minor": 5
}
